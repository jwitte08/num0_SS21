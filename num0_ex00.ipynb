{
  "nbformat": 4,
  "nbformat_minor": 0,
  "metadata": {
    "colab": {
      "name": "num0_ex00.ipynb",
      "provenance": [],
      "collapsed_sections": [],
      "toc_visible": true,
      "authorship_tag": "ABX9TyMyBcWJT9HDZpYgIm7QU/kl",
      "include_colab_link": true
    },
    "kernelspec": {
      "name": "python3",
      "display_name": "Python 3"
    },
    "language_info": {
      "name": "python"
    }
  },
  "cells": [
    {
      "cell_type": "markdown",
      "metadata": {
        "id": "view-in-github",
        "colab_type": "text"
      },
      "source": [
        "<a href=\"https://colab.research.google.com/github/jwitte08/num0_SS21/blob/main/num0_ex00.ipynb\" target=\"_parent\"><img src=\"https://colab.research.google.com/assets/colab-badge.svg\" alt=\"Open In Colab\"/></a>"
      ]
    },
    {
      "cell_type": "markdown",
      "metadata": {
        "id": "jZtqJ2Xz1vhN"
      },
      "source": [
        "### Einführung in die Numerik\n",
        "#### Python Intro\n",
        "\n",
        "\n"
      ]
    },
    {
      "cell_type": "markdown",
      "metadata": {
        "id": "bt0ERGAQ88AA"
      },
      "source": [
        "### Beispiel: Summe\n",
        "Programmieren Sie eine Funktion \n",
        "```python\n",
        "def sum(a,b):\n",
        "    # bitte einfügen\n",
        "```\n",
        "die die Summe von `a` und `b` berechnet."
      ]
    },
    {
      "cell_type": "code",
      "metadata": {
        "id": "CQPw1S_U1k7t"
      },
      "source": [
        "def sum(a,b):\n",
        "    return a + b\n",
        "\n",
        "sum(1,2) == 3\n",
        "sum(1,2) == 4;"
      ],
      "execution_count": 1,
      "outputs": []
    },
    {
      "cell_type": "markdown",
      "metadata": {
        "id": "hqtJvqxcMJWX"
      },
      "source": [
        "### Beispiel: numpy"
      ]
    },
    {
      "cell_type": "code",
      "metadata": {
        "colab": {
          "base_uri": "https://localhost:8080/"
        },
        "id": "b3sKL9LMMfNm",
        "outputId": "aa074730-6956-4805-a6b1-514c11ee7a70"
      },
      "source": [
        "import numpy as np\n",
        "\n",
        "A = np.array([[1,2,3],[4,5,6]])\n",
        "\n",
        "print(\"A ist ein {} Array:\\n {}\".format(A.shape, A))\n",
        "\n",
        "shape_of_B = (3,2)\n",
        "B = np.ones(shape_of_B)\n",
        "print(\"B ist eine {}x{} Matrix:\\n {}\".format(B.shape[0], B.shape[1], B))\n",
        "\n",
        "length_of_v = 3;\n",
        "v1 = np.zeros(length_of_v)\n",
        "print(\"v1 ist ein Reihenvektor der Länge {}:\\n {}\".format(v1.shape, v1))\n",
        "\n",
        "v2 = np.zeros((1,length_of_v))\n",
        "print(\"v2 ist ein Reihenvektor der Form {}:\\n {}\".format(v2.shape, v2))\n",
        "\n",
        "v3 = np.zeros((length_of_v,1), dtype=int)\n",
        "print(\"v3 ist ein Spaltenvektor der Form {}:\\n {}\".format(v3.shape, v3))\n"
      ],
      "execution_count": 2,
      "outputs": [
        {
          "output_type": "stream",
          "text": [
            "A ist ein (2, 3) Array:\n",
            " [[1 2 3]\n",
            " [4 5 6]]\n",
            "B ist eine 3x2 Matrix:\n",
            " [[1. 1.]\n",
            " [1. 1.]\n",
            " [1. 1.]]\n",
            "v1 ist ein Reihenvektor der Länge (3,):\n",
            " [0. 0. 0.]\n",
            "v2 ist ein Reihenvektor der Form (1, 3):\n",
            " [[0. 0. 0.]]\n",
            "v3 ist ein Spaltenvektor der Form (3, 1):\n",
            " [[0]\n",
            " [0]\n",
            " [0]]\n"
          ],
          "name": "stdout"
        }
      ]
    },
    {
      "cell_type": "markdown",
      "metadata": {
        "id": "l24nMQ431uDO"
      },
      "source": [
        ""
      ]
    }
  ]
}