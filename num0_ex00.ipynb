{
  "nbformat": 4,
  "nbformat_minor": 0,
  "metadata": {
    "colab": {
      "name": "num0_ex00.ipynb",
      "provenance": [],
      "collapsed_sections": [],
      "toc_visible": true,
      "history_visible": true,
      "authorship_tag": "ABX9TyOGr6ve4GC6Nw+RT/H25KhZ",
      "include_colab_link": true
    },
    "kernelspec": {
      "name": "python3",
      "display_name": "Python 3"
    },
    "language_info": {
      "name": "python"
    }
  },
  "cells": [
    {
      "cell_type": "markdown",
      "metadata": {
        "id": "view-in-github",
        "colab_type": "text"
      },
      "source": [
        "<a href=\"https://colab.research.google.com/github/jwitte08/num0_SS21/blob/main/num0_ex00.ipynb\" target=\"_parent\"><img src=\"https://colab.research.google.com/assets/colab-badge.svg\" alt=\"Open In Colab\"/></a>"
      ]
    },
    {
      "cell_type": "markdown",
      "metadata": {
        "id": "jZtqJ2Xz1vhN"
      },
      "source": [
        "### Einführung in die Numerik\n",
        "#### Python Intro\n",
        "\n",
        "\n"
      ]
    },
    {
      "cell_type": "markdown",
      "metadata": {
        "id": "bt0ERGAQ88AA"
      },
      "source": [
        "### Beispiel: Summe"
      ]
    },
    {
      "cell_type": "markdown",
      "metadata": {
        "id": "hb86rGCp3K1J"
      },
      "source": [
        "Programmieren Sie eine Funktion \n",
        "```python\n",
        "def sum(a,b):\n",
        "    # bitte einfügen\n",
        "```\n",
        "die die Summe von `a` und `b` berechnet."
      ]
    },
    {
      "cell_type": "code",
      "metadata": {
        "id": "CQPw1S_U1k7t"
      },
      "source": [
        "def sum(a,b):\n",
        "    return a + b\n",
        "\n",
        "sum(1,2) == 3\n",
        "sum(1,2) == 4;"
      ],
      "execution_count": null,
      "outputs": []
    },
    {
      "cell_type": "markdown",
      "metadata": {
        "id": "l24nMQ431uDO"
      },
      "source": [
        ""
      ]
    }
  ]
}